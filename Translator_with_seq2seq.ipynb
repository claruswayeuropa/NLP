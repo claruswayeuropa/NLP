{
  "cells": [
    {
      "cell_type": "markdown",
      "metadata": {
        "id": "view-in-github",
        "colab_type": "text"
      },
      "source": [
        "<a href=\"https://colab.research.google.com/github/nadireus/NLP/blob/main/Translator_with_seq2seq.ipynb\" target=\"_parent\"><img src=\"https://colab.research.google.com/assets/colab-badge.svg\" alt=\"Open In Colab\"/></a>"
      ]
    },
    {
      "cell_type": "code",
      "execution_count": 1,
      "metadata": {
        "id": "pOEtVC7ZnaWw"
      },
      "outputs": [],
      "source": [
        "import tensorflow as tf\n",
        "import numpy as np"
      ]
    },
    {
      "cell_type": "code",
      "source": [
        "!pip install tensorflow"
      ],
      "metadata": {
        "id": "osphoDw8nxzE"
      },
      "execution_count": null,
      "outputs": []
    },
    {
      "cell_type": "code",
      "source": [
        "print(tf.__version__)"
      ],
      "metadata": {
        "colab": {
          "base_uri": "https://localhost:8080/"
        },
        "id": "OTcYiqbStquG",
        "outputId": "b366f787-87dd-432d-d2ea-fdd99cf9bcea"
      },
      "execution_count": 61,
      "outputs": [
        {
          "output_type": "stream",
          "name": "stdout",
          "text": [
            "2.8.0\n"
          ]
        }
      ]
    },
    {
      "cell_type": "code",
      "source": [
        "from tensorflow.keras.optimizers import RMSprop"
      ],
      "metadata": {
        "id": "VePV6-vppJ_1"
      },
      "execution_count": 3,
      "outputs": []
    },
    {
      "cell_type": "code",
      "execution_count": 4,
      "metadata": {
        "id": "ApUM9iGynaW1"
      },
      "outputs": [],
      "source": [
        "from tensorflow.python.keras.models import Model\n",
        "from tensorflow.python.keras.layers import Input, Dense, GRU, Embedding, CuDNNGRU\n",
        "from tensorflow.python.keras.callbacks import ModelCheckpoint\n",
        "from tensorflow.keras.preprocessing.text import Tokenizer\n",
        "from tensorflow.keras.preprocessing.sequence import pad_sequences"
      ]
    },
    {
      "cell_type": "code",
      "source": [
        "from tensorflow.keras.optimizers import Adam"
      ],
      "metadata": {
        "id": "r0GLRiuYtxE-"
      },
      "execution_count": 62,
      "outputs": []
    },
    {
      "cell_type": "code",
      "source": [
        "from google.colab import drive\n",
        "drive.mount('/content/drive')"
      ],
      "metadata": {
        "colab": {
          "base_uri": "https://localhost:8080/"
        },
        "id": "DKA7aGEuoCd7",
        "outputId": "95f935db-d4b9-423b-dcf3-7f7cf2417562"
      },
      "execution_count": 5,
      "outputs": [
        {
          "output_type": "stream",
          "name": "stdout",
          "text": [
            "Mounted at /content/drive\n"
          ]
        }
      ]
    },
    {
      "cell_type": "code",
      "execution_count": 6,
      "metadata": {
        "id": "PTmtGvoznaW2"
      },
      "outputs": [],
      "source": [
        "mark_start = 'ssss '\n",
        "mark_end = ' eeee'"
      ]
    },
    {
      "cell_type": "code",
      "execution_count": 7,
      "metadata": {
        "id": "_-aXBgYenaW3"
      },
      "outputs": [],
      "source": [
        "data_src = []\n",
        "data_dest = []"
      ]
    },
    {
      "cell_type": "code",
      "execution_count": 8,
      "metadata": {
        "id": "TKw9RCoknaW3"
      },
      "outputs": [],
      "source": [
        "for line in open('/content/drive/MyDrive/Colab Notebooks/tur.txt', encoding='UTF-8'):\n",
        "    en_text, tr_text = line.rstrip().split('\\t')\n",
        "    \n",
        "    tr_text = mark_start + tr_text + mark_end\n",
        "    \n",
        "    data_src.append(en_text)\n",
        "    data_dest.append(tr_text)"
      ]
    },
    {
      "cell_type": "code",
      "execution_count": 9,
      "metadata": {
        "colab": {
          "base_uri": "https://localhost:8080/",
          "height": 35
        },
        "id": "gxICAMmVnaW4",
        "outputId": "45298214-f855-4431-b872-4cb1d8e1c77a"
      },
      "outputs": [
        {
          "output_type": "execute_result",
          "data": {
            "application/vnd.google.colaboratory.intrinsic+json": {
              "type": "string"
            },
            "text/plain": [
              "'I drove.'"
            ]
          },
          "metadata": {},
          "execution_count": 9
        }
      ],
      "source": [
        "data_src[100]"
      ]
    },
    {
      "cell_type": "code",
      "execution_count": 10,
      "metadata": {
        "colab": {
          "base_uri": "https://localhost:8080/",
          "height": 35
        },
        "id": "3wOkzXlOnaW5",
        "outputId": "4fd8021e-c48a-4285-8b31-88621f13fc88"
      },
      "outputs": [
        {
          "output_type": "execute_result",
          "data": {
            "application/vnd.google.colaboratory.intrinsic+json": {
              "type": "string"
            },
            "text/plain": [
              "'ssss Araba sürdüm. eeee'"
            ]
          },
          "metadata": {},
          "execution_count": 10
        }
      ],
      "source": [
        "data_dest[100]"
      ]
    },
    {
      "cell_type": "code",
      "execution_count": 11,
      "metadata": {
        "colab": {
          "base_uri": "https://localhost:8080/",
          "height": 35
        },
        "id": "rgKKGX7EnaW5",
        "outputId": "b7c1928e-4f39-45b9-9678-d866876f2af5"
      },
      "outputs": [
        {
          "output_type": "execute_result",
          "data": {
            "application/vnd.google.colaboratory.intrinsic+json": {
              "type": "string"
            },
            "text/plain": [
              "'Can you see anything missing?'"
            ]
          },
          "metadata": {},
          "execution_count": 11
        }
      ],
      "source": [
        "data_src[200000]"
      ]
    },
    {
      "cell_type": "code",
      "execution_count": 12,
      "metadata": {
        "colab": {
          "base_uri": "https://localhost:8080/",
          "height": 35
        },
        "id": "Q3d11fennaW6",
        "outputId": "b5760dc3-f4dc-4ddf-eae1-1a0a046a96cc"
      },
      "outputs": [
        {
          "output_type": "execute_result",
          "data": {
            "application/vnd.google.colaboratory.intrinsic+json": {
              "type": "string"
            },
            "text/plain": [
              "'ssss Eksik bir şey görebiliyor musun? eeee'"
            ]
          },
          "metadata": {},
          "execution_count": 12
        }
      ],
      "source": [
        "data_dest[200000]"
      ]
    },
    {
      "cell_type": "code",
      "execution_count": 13,
      "metadata": {
        "colab": {
          "base_uri": "https://localhost:8080/"
        },
        "id": "6QUBgdsDnaW7",
        "outputId": "690b7971-c35b-4e22-b367-2dc1dc5173e5"
      },
      "outputs": [
        {
          "output_type": "execute_result",
          "data": {
            "text/plain": [
              "473035"
            ]
          },
          "metadata": {},
          "execution_count": 13
        }
      ],
      "source": [
        "len(data_src)"
      ]
    },
    {
      "cell_type": "code",
      "execution_count": 14,
      "metadata": {
        "id": "fghpEBlbnaW7"
      },
      "outputs": [],
      "source": [
        "class TokenizerWrap(Tokenizer):\n",
        "    def __init__(self, texts, padding, reverse=False, num_words=None):\n",
        "        Tokenizer.__init__(self, num_words=num_words)\n",
        "        \n",
        "        self.fit_on_texts(texts)\n",
        "        \n",
        "        self.index_to_word = dict(zip(self.word_index.values(), self.word_index.keys()))\n",
        "        \n",
        "        self.tokens = self.texts_to_sequences(texts)\n",
        "        \n",
        "        if reverse:\n",
        "            self.tokens = [list(reversed(x)) for x in self.tokens]\n",
        "            truncating = 'pre'\n",
        "        else:\n",
        "            truncating = 'post'\n",
        "            \n",
        "        self.num_tokens = [len(x) for x in self.tokens]\n",
        "        self.max_tokens = np.mean(self.num_tokens) + 2 * np.std(self.num_tokens)\n",
        "        self.max_tokens = int(self.max_tokens)\n",
        "        \n",
        "        self.tokens_padded = pad_sequences(self.tokens,\n",
        "                                           maxlen=self.max_tokens,\n",
        "                                           padding=padding,\n",
        "                                           truncating=truncating)\n",
        "        \n",
        "    def token_to_word(self, token):\n",
        "        word = ' ' if token == 0 else self.index_to_word[token]\n",
        "        return word\n",
        "    \n",
        "    def tokens_to_string(self, tokens):\n",
        "        words = [self.index_to_word[token] for token in tokens if token != 0]\n",
        "        text = ' '.join(words)\n",
        "        return text\n",
        "    \n",
        "    def text_to_tokens(self, text, padding, reverse=False):\n",
        "        tokens = self.texts_to_sequences([text])\n",
        "        tokens = np.array(tokens)\n",
        "        \n",
        "        if reverse:\n",
        "            tokens = np.flip(tokens, axis=1)\n",
        "            truncating = 'pre'\n",
        "        else:\n",
        "            truncating = 'post'\n",
        "            \n",
        "        tokens = pad_sequences(tokens,\n",
        "                               maxlen=self.max_tokens,\n",
        "                               padding=padding,\n",
        "                               truncating=truncating)\n",
        "        \n",
        "        return tokens"
      ]
    },
    {
      "cell_type": "code",
      "execution_count": 15,
      "metadata": {
        "id": "C3gycLZlnaW8"
      },
      "outputs": [],
      "source": [
        "tokenizer_src = TokenizerWrap(texts=data_src,\n",
        "                              padding='pre',\n",
        "                              reverse=True,\n",
        "                              num_words=None)"
      ]
    },
    {
      "cell_type": "code",
      "execution_count": 16,
      "metadata": {
        "id": "7OuZHKv4naW9"
      },
      "outputs": [],
      "source": [
        "tokenizer_dest = TokenizerWrap(texts=data_dest,\n",
        "                              padding='post',\n",
        "                              reverse=False,\n",
        "                              num_words=None)"
      ]
    },
    {
      "cell_type": "code",
      "execution_count": 17,
      "metadata": {
        "colab": {
          "base_uri": "https://localhost:8080/"
        },
        "id": "W4GcqGa5naW9",
        "outputId": "c7828f17-dff5-4c37-915d-2cbbccca05ea"
      },
      "outputs": [
        {
          "output_type": "stream",
          "name": "stdout",
          "text": [
            "(473035, 11)\n",
            "(473035, 10)\n"
          ]
        }
      ],
      "source": [
        "tokens_src = tokenizer_src.tokens_padded\n",
        "tokens_dest = tokenizer_dest.tokens_padded\n",
        "print(tokens_src.shape)\n",
        "print(tokens_dest.shape)"
      ]
    },
    {
      "cell_type": "code",
      "execution_count": 18,
      "metadata": {
        "colab": {
          "base_uri": "https://localhost:8080/"
        },
        "id": "a4D5OzDjnaW-",
        "outputId": "bbef4b11-0941-4587-bf0f-1b94dc6649ac"
      },
      "outputs": [
        {
          "output_type": "execute_result",
          "data": {
            "text/plain": [
              "array([   1, 2391,    4,   18, 4127,   48,    2,    0,    0,    0],\n",
              "      dtype=int32)"
            ]
          },
          "metadata": {},
          "execution_count": 18
        }
      ],
      "source": [
        "tokens_dest[200000]"
      ]
    },
    {
      "cell_type": "code",
      "execution_count": 19,
      "metadata": {
        "colab": {
          "base_uri": "https://localhost:8080/",
          "height": 35
        },
        "id": "TW6Fkb_1naW-",
        "outputId": "118b13e6-0bea-468f-ec1d-dfd6eac0b4ae"
      },
      "outputs": [
        {
          "output_type": "execute_result",
          "data": {
            "application/vnd.google.colaboratory.intrinsic+json": {
              "type": "string"
            },
            "text/plain": [
              "'ssss eksik bir şey görebiliyor musun eeee'"
            ]
          },
          "metadata": {},
          "execution_count": 19
        }
      ],
      "source": [
        "tokenizer_dest.tokens_to_string(tokens_dest[200000])"
      ]
    },
    {
      "cell_type": "code",
      "execution_count": 20,
      "metadata": {
        "colab": {
          "base_uri": "https://localhost:8080/"
        },
        "id": "Kggsboo4naW_",
        "outputId": "f22f3798-164a-48e5-bc4b-5c073a73490b"
      },
      "outputs": [
        {
          "output_type": "execute_result",
          "data": {
            "text/plain": [
              "array([   0,    0,    0,    0,    0,    0, 1028,  113,   95,    5,   39],\n",
              "      dtype=int32)"
            ]
          },
          "metadata": {},
          "execution_count": 20
        }
      ],
      "source": [
        "tokens_src[200000]"
      ]
    },
    {
      "cell_type": "code",
      "execution_count": 21,
      "metadata": {
        "colab": {
          "base_uri": "https://localhost:8080/",
          "height": 35
        },
        "id": "KOy01jN9naW_",
        "outputId": "71430bae-a65a-4631-bad9-4f518f9791e4"
      },
      "outputs": [
        {
          "output_type": "execute_result",
          "data": {
            "application/vnd.google.colaboratory.intrinsic+json": {
              "type": "string"
            },
            "text/plain": [
              "'missing anything see you can'"
            ]
          },
          "metadata": {},
          "execution_count": 21
        }
      ],
      "source": [
        "tokenizer_src.tokens_to_string(tokens_src[200000])"
      ]
    },
    {
      "cell_type": "code",
      "execution_count": 22,
      "metadata": {
        "colab": {
          "base_uri": "https://localhost:8080/",
          "height": 35
        },
        "id": "3nzN3ECcnaW_",
        "outputId": "fb4d173a-e264-4829-a51c-a806acc86f08"
      },
      "outputs": [
        {
          "output_type": "execute_result",
          "data": {
            "application/vnd.google.colaboratory.intrinsic+json": {
              "type": "string"
            },
            "text/plain": [
              "'Can you see anything missing?'"
            ]
          },
          "metadata": {},
          "execution_count": 22
        }
      ],
      "source": [
        "data_src[200000]"
      ]
    },
    {
      "cell_type": "code",
      "execution_count": 23,
      "metadata": {
        "colab": {
          "base_uri": "https://localhost:8080/"
        },
        "id": "7mJ6Nk3-naXA",
        "outputId": "d873eb35-9c1d-4a3a-cd9a-56a0f15bdfa6"
      },
      "outputs": [
        {
          "output_type": "execute_result",
          "data": {
            "text/plain": [
              "1"
            ]
          },
          "metadata": {},
          "execution_count": 23
        }
      ],
      "source": [
        "token_start = tokenizer_dest.word_index[mark_start.strip()]\n",
        "token_start"
      ]
    },
    {
      "cell_type": "code",
      "execution_count": 24,
      "metadata": {
        "colab": {
          "base_uri": "https://localhost:8080/"
        },
        "id": "zjN-Vk0AnaXA",
        "outputId": "7bb0def6-3df6-4eb8-a433-128aa4a1213d"
      },
      "outputs": [
        {
          "output_type": "execute_result",
          "data": {
            "text/plain": [
              "2"
            ]
          },
          "metadata": {},
          "execution_count": 24
        }
      ],
      "source": [
        "token_end = tokenizer_dest.word_index[mark_end.strip()]\n",
        "token_end"
      ]
    },
    {
      "cell_type": "code",
      "execution_count": 25,
      "metadata": {
        "id": "f2Tvi3jlnaXB"
      },
      "outputs": [],
      "source": [
        "encoder_input_data = tokens_src"
      ]
    },
    {
      "cell_type": "code",
      "execution_count": 26,
      "metadata": {
        "id": "HeeQBfh4naXB"
      },
      "outputs": [],
      "source": [
        "decoder_input_data = tokens_dest[:, :-1]\n",
        "decoder_output_data = tokens_dest[:, 1:]"
      ]
    },
    {
      "cell_type": "code",
      "execution_count": 27,
      "metadata": {
        "colab": {
          "base_uri": "https://localhost:8080/"
        },
        "id": "DmlEFrgwnaXB",
        "outputId": "5895165a-834f-43a1-b140-a7b6d4ce5c8b"
      },
      "outputs": [
        {
          "output_type": "execute_result",
          "data": {
            "text/plain": [
              "array([   0,    0,    0,    0,    0,    0, 1028,  113,   95,    5,   39],\n",
              "      dtype=int32)"
            ]
          },
          "metadata": {},
          "execution_count": 27
        }
      ],
      "source": [
        "encoder_input_data[200000]"
      ]
    },
    {
      "cell_type": "code",
      "execution_count": 28,
      "metadata": {
        "colab": {
          "base_uri": "https://localhost:8080/"
        },
        "id": "e1u4iQ8MnaXB",
        "outputId": "b52ac6a6-3723-4a47-d202-6d77efb77893"
      },
      "outputs": [
        {
          "output_type": "execute_result",
          "data": {
            "text/plain": [
              "array([   1, 2391,    4,   18, 4127,   48,    2,    0,    0], dtype=int32)"
            ]
          },
          "metadata": {},
          "execution_count": 28
        }
      ],
      "source": [
        "decoder_input_data[200000]"
      ]
    },
    {
      "cell_type": "code",
      "execution_count": 29,
      "metadata": {
        "colab": {
          "base_uri": "https://localhost:8080/"
        },
        "id": "G9hfnefJnaXC",
        "outputId": "8c5e6516-6973-4e78-b4d6-5cf97c374760"
      },
      "outputs": [
        {
          "output_type": "execute_result",
          "data": {
            "text/plain": [
              "array([2391,    4,   18, 4127,   48,    2,    0,    0,    0], dtype=int32)"
            ]
          },
          "metadata": {},
          "execution_count": 29
        }
      ],
      "source": [
        "decoder_output_data[200000]"
      ]
    },
    {
      "cell_type": "code",
      "execution_count": 30,
      "metadata": {
        "colab": {
          "base_uri": "https://localhost:8080/",
          "height": 35
        },
        "id": "Ap0sDUhnnaXC",
        "outputId": "5b50c912-4a0e-4694-a283-da408a02ee2a"
      },
      "outputs": [
        {
          "output_type": "execute_result",
          "data": {
            "application/vnd.google.colaboratory.intrinsic+json": {
              "type": "string"
            },
            "text/plain": [
              "'ssss eksik bir şey görebiliyor musun eeee'"
            ]
          },
          "metadata": {},
          "execution_count": 30
        }
      ],
      "source": [
        "tokenizer_dest.tokens_to_string(decoder_input_data[200000])"
      ]
    },
    {
      "cell_type": "code",
      "execution_count": 31,
      "metadata": {
        "colab": {
          "base_uri": "https://localhost:8080/",
          "height": 35
        },
        "id": "tb2pnfDPnaXC",
        "outputId": "7b4b585a-8463-4d15-b4f8-9c8c1c04da39"
      },
      "outputs": [
        {
          "output_type": "execute_result",
          "data": {
            "application/vnd.google.colaboratory.intrinsic+json": {
              "type": "string"
            },
            "text/plain": [
              "'eksik bir şey görebiliyor musun eeee'"
            ]
          },
          "metadata": {},
          "execution_count": 31
        }
      ],
      "source": [
        "tokenizer_dest.tokens_to_string(decoder_output_data[200000])"
      ]
    },
    {
      "cell_type": "code",
      "execution_count": 32,
      "metadata": {
        "id": "n0lfyQqYnaXC"
      },
      "outputs": [],
      "source": [
        "num_encoder_words = len(tokenizer_src.word_index)\n",
        "num_decoder_words = len(tokenizer_dest.word_index)"
      ]
    },
    {
      "cell_type": "code",
      "execution_count": 33,
      "metadata": {
        "colab": {
          "base_uri": "https://localhost:8080/"
        },
        "id": "vrlI3F7inaXC",
        "outputId": "afad1a5f-7304-47a8-a3e6-5d54a252b6fb"
      },
      "outputs": [
        {
          "output_type": "execute_result",
          "data": {
            "text/plain": [
              "21315"
            ]
          },
          "metadata": {},
          "execution_count": 33
        }
      ],
      "source": [
        "num_encoder_words"
      ]
    },
    {
      "cell_type": "code",
      "execution_count": 34,
      "metadata": {
        "colab": {
          "base_uri": "https://localhost:8080/"
        },
        "id": "4BLH2Tg2naXD",
        "outputId": "cb68f971-a2de-4fc8-b926-e08c31e2bfc7"
      },
      "outputs": [
        {
          "output_type": "execute_result",
          "data": {
            "text/plain": [
              "94058"
            ]
          },
          "metadata": {},
          "execution_count": 34
        }
      ],
      "source": [
        "num_decoder_words"
      ]
    },
    {
      "cell_type": "code",
      "execution_count": 35,
      "metadata": {
        "id": "krvuL4EYnaXD"
      },
      "outputs": [],
      "source": [
        "embedding_size = 100"
      ]
    },
    {
      "cell_type": "code",
      "execution_count": 37,
      "metadata": {
        "id": "0ezWJzpmnaXD"
      },
      "outputs": [],
      "source": [
        "word2vec = {}\n",
        "with open('/content/drive/MyDrive/Colab Notebooks/glove.6B.100d.txt', encoding='UTF-8') as f:\n",
        "    for line in f:\n",
        "        values = line.split()\n",
        "        word = values[0]\n",
        "        vec = np.asarray(values[1:], dtype='float32')\n",
        "        word2vec[word] = vec"
      ]
    },
    {
      "cell_type": "code",
      "execution_count": 38,
      "metadata": {
        "id": "CQ38BtF0naXD"
      },
      "outputs": [],
      "source": [
        "embedding_matrix = np.random.uniform(-1, 1, (num_encoder_words, embedding_size))\n",
        "for word, i in tokenizer_src.word_index.items():\n",
        "    if i < num_encoder_words:\n",
        "        embedding_vector = word2vec.get(word)\n",
        "        if embedding_vector is not None:\n",
        "            embedding_matrix[i] = embedding_vector"
      ]
    },
    {
      "cell_type": "code",
      "execution_count": 39,
      "metadata": {
        "colab": {
          "base_uri": "https://localhost:8080/"
        },
        "id": "hbXh4_jenaXD",
        "outputId": "f84943c2-913b-40fa-c05d-0236cfef208f"
      },
      "outputs": [
        {
          "output_type": "execute_result",
          "data": {
            "text/plain": [
              "(21315, 100)"
            ]
          },
          "metadata": {},
          "execution_count": 39
        }
      ],
      "source": [
        "embedding_matrix.shape"
      ]
    },
    {
      "cell_type": "code",
      "execution_count": 40,
      "metadata": {
        "id": "3AaEXv1anaXE"
      },
      "outputs": [],
      "source": [
        "encoder_input = Input(shape=(None,), name='encoder_input')"
      ]
    },
    {
      "cell_type": "code",
      "execution_count": 41,
      "metadata": {
        "id": "66Zy-8WTnaXE"
      },
      "outputs": [],
      "source": [
        "encoder_embedding = Embedding(input_dim=num_encoder_words,\n",
        "                              output_dim=embedding_size,\n",
        "                              weights=[embedding_matrix],\n",
        "                              trainable=True,\n",
        "                              name='encoder_embedding')"
      ]
    },
    {
      "cell_type": "code",
      "execution_count": 42,
      "metadata": {
        "id": "irg3PpJInaXE"
      },
      "outputs": [],
      "source": [
        "state_size = 256"
      ]
    },
    {
      "cell_type": "code",
      "execution_count": 43,
      "metadata": {
        "id": "cCRtyqdonaXE"
      },
      "outputs": [],
      "source": [
        "encoder_gru1 = GRU(state_size, name='encoder_gru1', return_sequences=True)\n",
        "encoder_gru2 = GRU(state_size, name='encoder_gru2', return_sequences=True)\n",
        "encoder_gru3 = GRU(state_size, name='encoder_gru3', return_sequences=False)"
      ]
    },
    {
      "cell_type": "code",
      "execution_count": 44,
      "metadata": {
        "id": "YO2TJ9pJnaXE"
      },
      "outputs": [],
      "source": [
        "def connect_encoder():\n",
        "    net = encoder_input\n",
        "    \n",
        "    net = encoder_embedding(net)\n",
        "    \n",
        "    net = encoder_gru1(net)\n",
        "    net = encoder_gru2(net)\n",
        "    net = encoder_gru3(net)\n",
        "    \n",
        "    encoder_output = net\n",
        "    \n",
        "    return encoder_output"
      ]
    },
    {
      "cell_type": "code",
      "execution_count": 45,
      "metadata": {
        "id": "lGhqBgVSnaXE"
      },
      "outputs": [],
      "source": [
        "encoder_output = connect_encoder()"
      ]
    },
    {
      "cell_type": "code",
      "execution_count": 46,
      "metadata": {
        "id": "VKIp9-lBnaXF"
      },
      "outputs": [],
      "source": [
        "decoder_initial_state = Input(shape=(state_size,), name='decoder_initial_state')"
      ]
    },
    {
      "cell_type": "code",
      "execution_count": 47,
      "metadata": {
        "id": "QPZ_4x69naXF"
      },
      "outputs": [],
      "source": [
        "decoder_input = Input(shape=(None,), name='decoder_input')"
      ]
    },
    {
      "cell_type": "code",
      "execution_count": 48,
      "metadata": {
        "id": "M73NC2RcnaXF"
      },
      "outputs": [],
      "source": [
        "decoder_embedding = Embedding(input_dim=num_decoder_words,\n",
        "                              output_dim=embedding_size,\n",
        "                              name='decoder_embedding')"
      ]
    },
    {
      "cell_type": "code",
      "execution_count": 49,
      "metadata": {
        "id": "NROZrufqnaXF"
      },
      "outputs": [],
      "source": [
        "decoder_gru1 = GRU(state_size, name='decoder_gru1', return_sequences=True)\n",
        "decoder_gru2 = GRU(state_size, name='decoder_gru2', return_sequences=True)\n",
        "decoder_gru3 = GRU(state_size, name='decoder_gru3', return_sequences=True)"
      ]
    },
    {
      "cell_type": "code",
      "execution_count": 50,
      "metadata": {
        "id": "7L3ltrDRnaXF"
      },
      "outputs": [],
      "source": [
        "decoder_dense = Dense(num_decoder_words,\n",
        "                      activation='linear',\n",
        "                      name='decoder_output')"
      ]
    },
    {
      "cell_type": "code",
      "execution_count": 51,
      "metadata": {
        "id": "PFKIwxFhnaXF"
      },
      "outputs": [],
      "source": [
        "def connect_decoder(initial_state):\n",
        "    net = decoder_input\n",
        "    \n",
        "    net = decoder_embedding(net)\n",
        "    \n",
        "    net = decoder_gru1(net, initial_state=initial_state)\n",
        "    net = decoder_gru2(net, initial_state=initial_state)\n",
        "    net = decoder_gru3(net, initial_state=initial_state)\n",
        "    \n",
        "    decoder_output = decoder_dense(net)\n",
        "    \n",
        "    return decoder_output"
      ]
    },
    {
      "cell_type": "code",
      "source": [
        "\n"
      ],
      "metadata": {
        "colab": {
          "base_uri": "https://localhost:8080/",
          "height": 170
        },
        "id": "6ZJGftW1w7rW",
        "outputId": "4e14b201-7c57-4e4c-d486-f4cf552fb144"
      },
      "execution_count": 88,
      "outputs": [
        {
          "output_type": "error",
          "ename": "TypeError",
          "evalue": "ignored",
          "traceback": [
            "\u001b[0;31m---------------------------------------------------------------------------\u001b[0m",
            "\u001b[0;31mTypeError\u001b[0m                                 Traceback (most recent call last)",
            "\u001b[0;32m<ipython-input-88-540bbb887f96>\u001b[0m in \u001b[0;36m<module>\u001b[0;34m()\u001b[0m\n\u001b[0;32m----> 1\u001b[0;31m \u001b[0mModel\u001b[0m\u001b[0;34m.\u001b[0m\u001b[0mcompile\u001b[0m\u001b[0;34m(\u001b[0m\u001b[0mrun_eagerly\u001b[0m \u001b[0;34m=\u001b[0m \u001b[0;32mTrue\u001b[0m\u001b[0;34m)\u001b[0m\u001b[0;34m\u001b[0m\u001b[0;34m\u001b[0m\u001b[0m\n\u001b[0m",
            "\u001b[0;31mTypeError\u001b[0m: compile() missing 1 required positional argument: 'self'"
          ]
        }
      ]
    },
    {
      "cell_type": "code",
      "execution_count": 102,
      "metadata": {
        "id": "X5FQAPEhnaXG"
      },
      "outputs": [],
      "source": [
        "decoder_output = connect_decoder(initial_state=encoder_output)\n",
        "\n",
        "model_train = tf.keras.Model(inputs=[encoder_input, decoder_input], outputs=[decoder_output],)"
      ]
    },
    {
      "cell_type": "code",
      "execution_count": 103,
      "metadata": {
        "id": "63HigMelnaXG"
      },
      "outputs": [],
      "source": [
        "model_encoder = tf.keras.Model(inputs=[encoder_input], outputs=[encoder_output])"
      ]
    },
    {
      "cell_type": "code",
      "execution_count": 104,
      "metadata": {
        "id": "urLn8Ls9naXG"
      },
      "outputs": [],
      "source": [
        "decoder_output = connect_decoder(initial_state=decoder_initial_state)\n",
        "\n",
        "model_decoder = tf.keras.Model(inputs=[decoder_input, decoder_initial_state], outputs=[decoder_output])"
      ]
    },
    {
      "cell_type": "code",
      "execution_count": 105,
      "metadata": {
        "id": "nrnQhZKfnaXG"
      },
      "outputs": [],
      "source": [
        "def sparse_cross_entropy(y_true, y_pred):\n",
        "    loss = tf.nn.sparse_softmax_cross_entropy_with_logits(labels=y_true, logits=y_pred)\n",
        "    loss_mean = tf.reduce_mean(loss)\n",
        "    return loss_mean"
      ]
    },
    {
      "cell_type": "code",
      "execution_count": 94,
      "metadata": {
        "colab": {
          "base_uri": "https://localhost:8080/"
        },
        "id": "ygA6evGpnaXG",
        "outputId": "c900416c-3e27-4b07-9f28-2af9dc3f8f50"
      },
      "outputs": [
        {
          "output_type": "stream",
          "name": "stderr",
          "text": [
            "/usr/local/lib/python3.7/dist-packages/keras/optimizer_v2/rmsprop.py:130: UserWarning: The `lr` argument is deprecated, use `learning_rate` instead.\n",
            "  super(RMSprop, self).__init__(name, **kwargs)\n"
          ]
        }
      ],
      "source": [
        "optimizer = RMSprop(lr=1e-3)"
      ]
    },
    {
      "cell_type": "code",
      "source": [
        "import tensorflow.compat.v1 as tf\n",
        "\n",
        "tf.disable_v2_behavior() "
      ],
      "metadata": {
        "id": "L6ONMwn4ss29"
      },
      "execution_count": 95,
      "outputs": []
    },
    {
      "cell_type": "code",
      "execution_count": 106,
      "metadata": {
        "id": "OdwtX6xHnaXG"
      },
      "outputs": [],
      "source": [
        "decoder_target = tf.placeholder(dtype='int32', shape=(None,None))"
      ]
    },
    {
      "cell_type": "code",
      "execution_count": null,
      "metadata": {
        "id": "vhkg5hqnnaXG"
      },
      "outputs": [],
      "source": [
        "model_train.compile(optimizer=optimizer,\n",
        "                    loss=sparse_cross_entropy,\n",
        "                    target_tensors=[decoder_target])\n"
      ]
    },
    {
      "cell_type": "code",
      "execution_count": 82,
      "metadata": {
        "id": "Ffz8LCFLnaXH"
      },
      "outputs": [],
      "source": [
        "path_checkpoint = 'checkpoint.keras'\n",
        "checkpoint = ModelCheckpoint(filepath=path_checkpoint, save_weights_only=True)"
      ]
    },
    {
      "cell_type": "code",
      "execution_count": 83,
      "metadata": {
        "colab": {
          "base_uri": "https://localhost:8080/"
        },
        "id": "aQNHyqnqnaXH",
        "outputId": "1cb3bbcb-2d1d-4333-f195-0397e5569c6c"
      },
      "outputs": [
        {
          "output_type": "stream",
          "name": "stdout",
          "text": [
            "Checkpoint yüklenirken hata oluştu. Eğitime sıfırdan başlanıyor.\n",
            "Unable to open file (unable to open file: name = 'checkpoint.keras', errno = 2, error message = 'No such file or directory', flags = 0, o_flags = 0)\n"
          ]
        }
      ],
      "source": [
        "try:\n",
        "    model_train.load_weights(path_checkpoint)\n",
        "except Exception as error:\n",
        "    print('Checkpoint yüklenirken hata oluştu. Eğitime sıfırdan başlanıyor.')\n",
        "    print(error)"
      ]
    },
    {
      "cell_type": "code",
      "execution_count": 84,
      "metadata": {
        "id": "TC0Dh6T7naXH"
      },
      "outputs": [],
      "source": [
        "x_data = {'encoder_input': encoder_input_data, 'decoder_input': decoder_input_data}"
      ]
    },
    {
      "cell_type": "code",
      "execution_count": 85,
      "metadata": {
        "id": "f6AMZVEQnaXH"
      },
      "outputs": [],
      "source": [
        "y_data = {'decoder_output': decoder_output_data}"
      ]
    },
    {
      "cell_type": "code",
      "source": [
        "model.compile()\n",
        "model.run_eagerly = True"
      ],
      "metadata": {
        "id": "7z1udNiVw1zn"
      },
      "execution_count": null,
      "outputs": []
    },
    {
      "cell_type": "code",
      "execution_count": null,
      "metadata": {
        "id": "q8_-JAWgnaXH"
      },
      "outputs": [],
      "source": [
        "model_train.fit(x=x_data,\n",
        "                y=y_data,\n",
        "                batch_size=256,\n",
        "                epochs=0,\n",
        "                callbacks=[checkpoint])"
      ]
    },
    {
      "cell_type": "code",
      "execution_count": null,
      "metadata": {
        "id": "gM444MLLnaXI"
      },
      "outputs": [],
      "source": [
        "def translate(input_text, true_output_text=None):\n",
        "    input_tokens = tokenizer_src.text_to_tokens(text=input_text,\n",
        "                                                reverse=True,\n",
        "                                                padding='pre')\n",
        "    \n",
        "    initial_state = model_encoder.predict(input_tokens)\n",
        "    \n",
        "    max_tokens = tokenizer_dest.max_tokens\n",
        "    \n",
        "    decoder_input_data = np.zeros(shape=(1, max_tokens), dtype=np.int)\n",
        "    \n",
        "    token_int = token_start\n",
        "    output_text = ''\n",
        "    count_tokens = 0\n",
        "    \n",
        "    while token_int != token_end and count_tokens < max_tokens:\n",
        "        decoder_input_data[0, count_tokens] = token_int\n",
        "        x_data = {'decoder_initial_state': initial_state, 'decoder_input': decoder_input_data}\n",
        "        \n",
        "        decoder_output = model_decoder.predict(x_data)\n",
        "        \n",
        "        token_onehot = decoder_output[0, count_tokens, :]\n",
        "        token_int = np.argmax(token_onehot)\n",
        "        \n",
        "        sampled_word = tokenizer_dest.token_to_word(token_int)\n",
        "        output_text += ' ' + sampled_word\n",
        "        count_tokens += 1\n",
        "        \n",
        "    print('Input text:')\n",
        "    print(input_text)\n",
        "    print()\n",
        "    \n",
        "    print('Translated text:')\n",
        "    print(output_text)\n",
        "    print()\n",
        "    \n",
        "    if true_output_text is not None:\n",
        "        print('True output text:')\n",
        "        print(true_output_text)\n",
        "        print()"
      ]
    },
    {
      "cell_type": "code",
      "execution_count": null,
      "metadata": {
        "id": "NPuiFHInnaXI",
        "outputId": "a2dcfa53-9e9c-4442-96ff-94f62bcd95c4"
      },
      "outputs": [
        {
          "name": "stdout",
          "output_type": "stream",
          "text": [
            "Input text:\n",
            "You are telling it second hand, aren't you?\n",
            "\n",
            "Translated text:\n",
            " onu ikinci balık söylüyorsun değil mi eeee\n",
            "\n",
            "True output text:\n",
            "ssss Onu dolaylı olarak anlatıyorsun, değil mi? eeee\n",
            "\n"
          ]
        }
      ],
      "source": [
        "translate(input_text=data_src[400000], true_output_text=data_dest[400000])"
      ]
    },
    {
      "cell_type": "code",
      "execution_count": null,
      "metadata": {
        "id": "kAlpuqj3naXI",
        "outputId": "26b6663b-e007-4dbe-b6b0-9371ebe2e0ee"
      },
      "outputs": [
        {
          "name": "stdout",
          "output_type": "stream",
          "text": [
            "Input text:\n",
            "Which road leads to the airport?\n",
            "\n",
            "Translated text:\n",
            " hangi yol havaalanına gider eeee\n",
            "\n"
          ]
        }
      ],
      "source": [
        "translate(input_text='Which road leads to the airport?')"
      ]
    }
  ],
  "metadata": {
    "kernelspec": {
      "display_name": "Python 3",
      "language": "python",
      "name": "python3"
    },
    "language_info": {
      "codemirror_mode": {
        "name": "ipython",
        "version": 3
      },
      "file_extension": ".py",
      "mimetype": "text/x-python",
      "name": "python",
      "nbconvert_exporter": "python",
      "pygments_lexer": "ipython3",
      "version": "3.6.5"
    },
    "colab": {
      "name": "Translator_with_seq2seq.ipynb",
      "provenance": [],
      "include_colab_link": true
    },
    "accelerator": "GPU"
  },
  "nbformat": 4,
  "nbformat_minor": 0
}